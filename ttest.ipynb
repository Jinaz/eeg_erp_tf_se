{
 "cells": [
  {
   "cell_type": "markdown",
   "metadata": {},
   "source": [
    "# statistics\n",
    "\n",
    "H0: There is no difference between scrambled and intact. / There is no difference between face recognition and object recognition independent of scrambled or intact.  \n",
    "H1: There is a differenct beween scrambled and intact image recognition. / There is a difference between object and face recognition."
   ]
  },
  {
   "cell_type": "code",
   "execution_count": 1,
   "metadata": {},
   "outputs": [
    {
     "data": {
      "text/html": "<div>\n<style scoped>\n    .dataframe tbody tr th:only-of-type {\n        vertical-align: middle;\n    }\n\n    .dataframe tbody tr th {\n        vertical-align: top;\n    }\n\n    .dataframe thead th {\n        text-align: right;\n    }\n</style>\n<table border=\"1\" class=\"dataframe\">\n  <thead>\n    <tr style=\"text-align: right;\">\n      <th></th>\n      <th>subject</th>\n      <th>PO8</th>\n      <th>time</th>\n      <th>bsl</th>\n      <th>stimulus</th>\n      <th>condition</th>\n    </tr>\n  </thead>\n  <tbody>\n    <tr>\n      <th>0</th>\n      <td>1</td>\n      <td>5.779323e-06</td>\n      <td>0.149414</td>\n      <td>-3.289448e-23</td>\n      <td>car</td>\n      <td>intact</td>\n    </tr>\n    <tr>\n      <th>1</th>\n      <td>1</td>\n      <td>8.570455e-06</td>\n      <td>0.117188</td>\n      <td>-1.315779e-22</td>\n      <td>face</td>\n      <td>intact</td>\n    </tr>\n    <tr>\n      <th>2</th>\n      <td>1</td>\n      <td>5.397788e-06</td>\n      <td>0.142578</td>\n      <td>-1.233543e-23</td>\n      <td>car</td>\n      <td>scrambled</td>\n    </tr>\n    <tr>\n      <th>3</th>\n      <td>1</td>\n      <td>6.282871e-06</td>\n      <td>0.125977</td>\n      <td>-1.644724e-22</td>\n      <td>face</td>\n      <td>scrambled</td>\n    </tr>\n    <tr>\n      <th>4</th>\n      <td>2</td>\n      <td>9.054158e-06</td>\n      <td>0.139648</td>\n      <td>8.223621e-23</td>\n      <td>car</td>\n      <td>intact</td>\n    </tr>\n    <tr>\n      <th>...</th>\n      <td>...</td>\n      <td>...</td>\n      <td>...</td>\n      <td>...</td>\n      <td>...</td>\n      <td>...</td>\n    </tr>\n    <tr>\n      <th>155</th>\n      <td>39</td>\n      <td>1.017349e-05</td>\n      <td>0.150391</td>\n      <td>6.578897e-23</td>\n      <td>face</td>\n      <td>scrambled</td>\n    </tr>\n    <tr>\n      <th>156</th>\n      <td>40</td>\n      <td>-7.867263e-07</td>\n      <td>0.125000</td>\n      <td>6.578897e-23</td>\n      <td>car</td>\n      <td>intact</td>\n    </tr>\n    <tr>\n      <th>157</th>\n      <td>40</td>\n      <td>-4.467147e-06</td>\n      <td>0.144531</td>\n      <td>2.467086e-23</td>\n      <td>face</td>\n      <td>intact</td>\n    </tr>\n    <tr>\n      <th>158</th>\n      <td>40</td>\n      <td>2.213958e-06</td>\n      <td>0.124023</td>\n      <td>-1.973669e-22</td>\n      <td>car</td>\n      <td>scrambled</td>\n    </tr>\n    <tr>\n      <th>159</th>\n      <td>40</td>\n      <td>1.607205e-06</td>\n      <td>0.119141</td>\n      <td>-6.990078e-23</td>\n      <td>face</td>\n      <td>scrambled</td>\n    </tr>\n  </tbody>\n</table>\n<p>160 rows × 6 columns</p>\n</div>",
      "text/plain": "     subject           PO8      time           bsl stimulus  condition\n0          1  5.779323e-06  0.149414 -3.289448e-23      car     intact\n1          1  8.570455e-06  0.117188 -1.315779e-22     face     intact\n2          1  5.397788e-06  0.142578 -1.233543e-23      car  scrambled\n3          1  6.282871e-06  0.125977 -1.644724e-22     face  scrambled\n4          2  9.054158e-06  0.139648  8.223621e-23      car     intact\n..       ...           ...       ...           ...      ...        ...\n155       39  1.017349e-05  0.150391  6.578897e-23     face  scrambled\n156       40 -7.867263e-07  0.125000  6.578897e-23      car     intact\n157       40 -4.467147e-06  0.144531  2.467086e-23     face     intact\n158       40  2.213958e-06  0.124023 -1.973669e-22      car  scrambled\n159       40  1.607205e-06  0.119141 -6.990078e-23     face  scrambled\n\n[160 rows x 6 columns]"
     },
     "execution_count": 1,
     "metadata": {},
     "output_type": "execute_result"
    }
   ],
   "source": [
    "import pandas as pd\n",
    "import numpy as np\n",
    "import scipy.stats\n",
    "from matplotlib import pyplot as plt \n",
    "import mne\n",
    "\n",
    "d = pd.read_csv('erpData.csv', sep=',')\n",
    "d"
   ]
  },
  {
   "cell_type": "code",
   "execution_count": 2,
   "metadata": {},
   "outputs": [],
   "source": [
    "values = []\n",
    "sc_intact = []\n",
    "sc_comparison = []\n",
    "intact_comparison = []\n",
    "for i in range(1,41):\n",
    "    selector = d.loc[d['subject'] == i]\n",
    "    cars = selector.loc[selector['stimulus'] == 'car']\n",
    "    faces = selector.loc[selector['stimulus'] == 'face']\n",
    "\n",
    "    intact = selector.loc[selector['condition'] == 'intact']\n",
    "    scrambled = selector.loc[selector['condition'] == 'scrambled']\n",
    "\n",
    "    intcars =intact.loc[intact['stimulus'] == 'car']\n",
    "    sccars = scrambled.loc[scrambled['stimulus'] == 'car']\n",
    "    intfaces = intact.loc[intact['stimulus'] == 'face']\n",
    "    scfaces = scrambled.loc[scrambled['stimulus'] == 'face']\n",
    "\n",
    "    values.append(np.mean(faces['PO8'].to_numpy()) - np.mean(cars['PO8'].to_numpy()))\n",
    "    sc_intact.append(np.mean(scrambled['PO8'].to_numpy()) - np.mean(intact['PO8'].to_numpy()))\n",
    "    sc_comparison.append(np.mean(scfaces['PO8'].to_numpy()) - np.mean(sccars['PO8'].to_numpy()))\n",
    "    intact_comparison.append(np.mean(intfaces['PO8'].to_numpy()) - np.mean(intcars['PO8'].to_numpy()))"
   ]
  },
  {
   "cell_type": "code",
   "execution_count": 3,
   "metadata": {},
   "outputs": [
    {
     "name": "stdout",
     "output_type": "stream",
     "text": [
      "Ttest_1sampResult(statistic=-2.3426720749861323, pvalue=0.024342352691865517)\n"
     ]
    }
   ],
   "source": [
    "numpyvalues = np.array(values)\r\n",
    "tstat =scipy.stats.ttest_1samp(numpyvalues, popmean= 0, axis=0)\r\n",
    "\r\n",
    "print(tstat)"
   ]
  },
  {
   "cell_type": "code",
   "execution_count": 4,
   "metadata": {},
   "outputs": [
    {
     "name": "stdout",
     "output_type": "stream",
     "text": [
      "Ttest_1sampResult(statistic=4.514217505029772, pvalue=5.7212497504245564e-05)\n"
     ]
    }
   ],
   "source": [
    "numpyvalues = np.array(sc_intact)\r\n",
    "tstat =scipy.stats.ttest_1samp(numpyvalues, popmean= 0, axis=0)\r\n",
    "print(tstat)"
   ]
  },
  {
   "cell_type": "code",
   "execution_count": 5,
   "metadata": {},
   "outputs": [
    {
     "name": "stdout",
     "output_type": "stream",
     "text": [
      "Ttest_1sampResult(statistic=1.2147584395710462, pvalue=0.23176202844935256)\n"
     ]
    }
   ],
   "source": [
    "numpyvalues = np.array(sc_comparison)\n",
    "tstat =scipy.stats.ttest_1samp(numpyvalues, popmean= 0, axis=0)\n",
    "\n",
    "print(tstat)"
   ]
  },
  {
   "cell_type": "code",
   "execution_count": 6,
   "metadata": {},
   "outputs": [
    {
     "name": "stdout",
     "output_type": "stream",
     "text": [
      "Ttest_1sampResult(statistic=-2.874638687500881, pvalue=0.006518755033019944)\n"
     ]
    }
   ],
   "source": [
    "numpyvalues = np.array(intact_comparison)\n",
    "tstat =scipy.stats.ttest_1samp(numpyvalues, popmean= 0, axis=0)\n",
    "\n",
    "print(tstat)"
   ]
  },
  {
   "cell_type": "markdown",
   "metadata": {},
   "source": [
    "concluding from the p values: We have to reject H0 and we see that there is a significant differenct between scrambled and intact as well as between face and object(in this case only the object car)."
   ]
  },
  {
   "cell_type": "markdown",
   "metadata": {},
   "source": [
    "Cluster permutation of mean(faces) - mean(cars) provides about same results as a one sampled ttest."
   ]
  },
  {
   "cell_type": "code",
   "execution_count": 8,
   "metadata": {},
   "outputs": [
    {
     "name": "stdout",
     "output_type": "stream",
     "text": [
      "stat_fun(H1): min=-2.342672 max=-2.342672\n",
      "Running initial clustering\n",
      "Found 1 clusters\n",
      "Permuting 999 times...\n"
     ]
    },
    {
     "name": "stderr",
     "output_type": "stream",
     "text": [
      "100%|██████████|  : 999/999 [00:00<00:00, 2951.43it/s]\n"
     ]
    },
    {
     "name": "stdout",
     "output_type": "stream",
     "text": [
      "Computing cluster p-values\n",
      "Done.\n"
     ]
    }
   ],
   "source": [
    "threshold = scipy.stats.distributions.t.ppf(1 - 0.15, 15 - 1)\n",
    "\n",
    "t_clust, clusters, p_values, H0 = mne.stats.permutation_cluster_1samp_test(\n",
    "    np.array(values), threshold=threshold, adjacency=None,\n",
    "    n_permutations=1000, out_type='mask')\n",
    "\n"
   ]
  },
  {
   "cell_type": "code",
   "execution_count": 14,
   "metadata": {},
   "outputs": [
    {
     "data": {
      "text/plain": "array([-2.34267207])"
     },
     "execution_count": 14,
     "metadata": {},
     "output_type": "execute_result"
    }
   ],
   "source": [
    "t_clust"
   ]
  },
  {
   "cell_type": "code",
   "execution_count": 15,
   "metadata": {},
   "outputs": [
    {
     "data": {
      "text/plain": "array([0.022])"
     },
     "execution_count": 15,
     "metadata": {},
     "output_type": "execute_result"
    }
   ],
   "source": [
    "p_values"
   ]
  }
 ],
 "metadata": {
  "interpreter": {
   "hash": "5c32a07f720f4073b21873b69b825ab4a3e866b29333f23875c44b2f1336180c"
  },
  "kernelspec": {
   "display_name": "Python 3",
   "language": "python",
   "name": "python3"
  },
  "language_info": {
   "codemirror_mode": {
    "name": "ipython",
    "version": 3
   },
   "file_extension": ".py",
   "mimetype": "text/x-python",
   "name": "python",
   "nbconvert_exporter": "python",
   "pygments_lexer": "ipython3",
   "version": "3.8.10"
  },
  "orig_nbformat": 4
 },
 "nbformat": 4,
 "nbformat_minor": 2
}